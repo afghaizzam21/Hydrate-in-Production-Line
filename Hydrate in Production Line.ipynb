{
  "cells": [
    {
      "cell_type": "markdown",
      "metadata": {
        "id": "view-in-github",
        "colab_type": "text"
      },
      "source": [
        "<a href=\"https://colab.research.google.com/github/afghaizzam21/Hydrate-in-Production-Line-/blob/main/Hydrate%20in%20Production%20Line.ipynb\" target=\"_parent\"><img src=\"https://colab.research.google.com/assets/colab-badge.svg\" alt=\"Open In Colab\"/></a>"
      ]
    },
    {
      "cell_type": "code",
      "execution_count": null,
      "metadata": {
        "colab": {
          "base_uri": "https://localhost:8080/"
        },
        "id": "t0ht1pP5EFGn",
        "outputId": "02254b48-d795-4ff8-ea45-0321d6326544"
      },
      "outputs": [
        {
          "output_type": "stream",
          "name": "stdout",
          "text": [
            "Mounted at /content/drive\n"
          ]
        }
      ],
      "source": [
        "from google.colab import drive\n",
        "drive.mount('/content/drive')"
      ]
    },
    {
      "cell_type": "code",
      "execution_count": null,
      "metadata": {
        "colab": {
          "base_uri": "https://localhost:8080/",
          "height": 407
        },
        "id": "JtmFP-5w9O4M",
        "outputId": "0c0664b5-8c95-4ecd-a3e3-d7ddab687ddd"
      },
      "outputs": [
        {
          "output_type": "execute_result",
          "data": {
            "text/plain": [
              "                    timestamp       P-PDG       P-TPT     T-TPT  P-MON-CKP  \\\n",
              "0  2018-05-17 22:56:06.000000  27897490.0  19824230.0  125.6859  4059666.0   \n",
              "1  2018-05-17 22:56:07.000000  27897450.0  19824230.0  125.6859  4059666.0   \n",
              "2  2018-05-17 22:56:08.000000  27897360.0  19824230.0  125.6859  4059666.0   \n",
              "3  2018-05-17 22:56:09.000000  27897430.0  19824230.0  125.6859  4059666.0   \n",
              "4  2018-05-17 22:56:10.000000  27897500.0  19824230.0  125.6859  4059666.0   \n",
              "5  2018-05-17 22:56:11.000000  27897310.0  19824230.0  125.6859  4059666.0   \n",
              "6  2018-05-17 22:56:12.000000  27897490.0  19824230.0  125.6859  4059666.0   \n",
              "7  2018-05-17 22:56:13.000000  27897450.0  19824230.0  125.6859  4059666.0   \n",
              "8  2018-05-17 22:56:14.000000  27897360.0  19824230.0  125.6859  4059666.0   \n",
              "9  2018-05-17 22:56:15.000000  27897430.0  19824230.0  125.6859  4059666.0   \n",
              "\n",
              "   T-JUS-CKP  P-JUS-CKGL  T-JUS-CKGL  QGL  class  \n",
              "0   97.55283         NaN         NaN  NaN      0  \n",
              "1   97.55283         NaN         NaN  NaN      0  \n",
              "2   97.55283         NaN         NaN  NaN      0  \n",
              "3   97.55282         NaN         NaN  NaN      0  \n",
              "4   97.55282         NaN         NaN  NaN      0  \n",
              "5   97.55282         NaN         NaN  NaN      0  \n",
              "6   97.55282         NaN         NaN  NaN      0  \n",
              "7   97.55282         NaN         NaN  NaN      0  \n",
              "8   97.55282         NaN         NaN  NaN      0  \n",
              "9   97.55281         NaN         NaN  NaN      0  "
            ],
            "text/html": [
              "\n",
              "  <div id=\"df-f398f53c-d2e2-4c5d-811c-300feae5d2e5\">\n",
              "    <div class=\"colab-df-container\">\n",
              "      <div>\n",
              "<style scoped>\n",
              "    .dataframe tbody tr th:only-of-type {\n",
              "        vertical-align: middle;\n",
              "    }\n",
              "\n",
              "    .dataframe tbody tr th {\n",
              "        vertical-align: top;\n",
              "    }\n",
              "\n",
              "    .dataframe thead th {\n",
              "        text-align: right;\n",
              "    }\n",
              "</style>\n",
              "<table border=\"1\" class=\"dataframe\">\n",
              "  <thead>\n",
              "    <tr style=\"text-align: right;\">\n",
              "      <th></th>\n",
              "      <th>timestamp</th>\n",
              "      <th>P-PDG</th>\n",
              "      <th>P-TPT</th>\n",
              "      <th>T-TPT</th>\n",
              "      <th>P-MON-CKP</th>\n",
              "      <th>T-JUS-CKP</th>\n",
              "      <th>P-JUS-CKGL</th>\n",
              "      <th>T-JUS-CKGL</th>\n",
              "      <th>QGL</th>\n",
              "      <th>class</th>\n",
              "    </tr>\n",
              "  </thead>\n",
              "  <tbody>\n",
              "    <tr>\n",
              "      <th>0</th>\n",
              "      <td>2018-05-17 22:56:06.000000</td>\n",
              "      <td>27897490.0</td>\n",
              "      <td>19824230.0</td>\n",
              "      <td>125.6859</td>\n",
              "      <td>4059666.0</td>\n",
              "      <td>97.55283</td>\n",
              "      <td>NaN</td>\n",
              "      <td>NaN</td>\n",
              "      <td>NaN</td>\n",
              "      <td>0</td>\n",
              "    </tr>\n",
              "    <tr>\n",
              "      <th>1</th>\n",
              "      <td>2018-05-17 22:56:07.000000</td>\n",
              "      <td>27897450.0</td>\n",
              "      <td>19824230.0</td>\n",
              "      <td>125.6859</td>\n",
              "      <td>4059666.0</td>\n",
              "      <td>97.55283</td>\n",
              "      <td>NaN</td>\n",
              "      <td>NaN</td>\n",
              "      <td>NaN</td>\n",
              "      <td>0</td>\n",
              "    </tr>\n",
              "    <tr>\n",
              "      <th>2</th>\n",
              "      <td>2018-05-17 22:56:08.000000</td>\n",
              "      <td>27897360.0</td>\n",
              "      <td>19824230.0</td>\n",
              "      <td>125.6859</td>\n",
              "      <td>4059666.0</td>\n",
              "      <td>97.55283</td>\n",
              "      <td>NaN</td>\n",
              "      <td>NaN</td>\n",
              "      <td>NaN</td>\n",
              "      <td>0</td>\n",
              "    </tr>\n",
              "    <tr>\n",
              "      <th>3</th>\n",
              "      <td>2018-05-17 22:56:09.000000</td>\n",
              "      <td>27897430.0</td>\n",
              "      <td>19824230.0</td>\n",
              "      <td>125.6859</td>\n",
              "      <td>4059666.0</td>\n",
              "      <td>97.55282</td>\n",
              "      <td>NaN</td>\n",
              "      <td>NaN</td>\n",
              "      <td>NaN</td>\n",
              "      <td>0</td>\n",
              "    </tr>\n",
              "    <tr>\n",
              "      <th>4</th>\n",
              "      <td>2018-05-17 22:56:10.000000</td>\n",
              "      <td>27897500.0</td>\n",
              "      <td>19824230.0</td>\n",
              "      <td>125.6859</td>\n",
              "      <td>4059666.0</td>\n",
              "      <td>97.55282</td>\n",
              "      <td>NaN</td>\n",
              "      <td>NaN</td>\n",
              "      <td>NaN</td>\n",
              "      <td>0</td>\n",
              "    </tr>\n",
              "    <tr>\n",
              "      <th>5</th>\n",
              "      <td>2018-05-17 22:56:11.000000</td>\n",
              "      <td>27897310.0</td>\n",
              "      <td>19824230.0</td>\n",
              "      <td>125.6859</td>\n",
              "      <td>4059666.0</td>\n",
              "      <td>97.55282</td>\n",
              "      <td>NaN</td>\n",
              "      <td>NaN</td>\n",
              "      <td>NaN</td>\n",
              "      <td>0</td>\n",
              "    </tr>\n",
              "    <tr>\n",
              "      <th>6</th>\n",
              "      <td>2018-05-17 22:56:12.000000</td>\n",
              "      <td>27897490.0</td>\n",
              "      <td>19824230.0</td>\n",
              "      <td>125.6859</td>\n",
              "      <td>4059666.0</td>\n",
              "      <td>97.55282</td>\n",
              "      <td>NaN</td>\n",
              "      <td>NaN</td>\n",
              "      <td>NaN</td>\n",
              "      <td>0</td>\n",
              "    </tr>\n",
              "    <tr>\n",
              "      <th>7</th>\n",
              "      <td>2018-05-17 22:56:13.000000</td>\n",
              "      <td>27897450.0</td>\n",
              "      <td>19824230.0</td>\n",
              "      <td>125.6859</td>\n",
              "      <td>4059666.0</td>\n",
              "      <td>97.55282</td>\n",
              "      <td>NaN</td>\n",
              "      <td>NaN</td>\n",
              "      <td>NaN</td>\n",
              "      <td>0</td>\n",
              "    </tr>\n",
              "    <tr>\n",
              "      <th>8</th>\n",
              "      <td>2018-05-17 22:56:14.000000</td>\n",
              "      <td>27897360.0</td>\n",
              "      <td>19824230.0</td>\n",
              "      <td>125.6859</td>\n",
              "      <td>4059666.0</td>\n",
              "      <td>97.55282</td>\n",
              "      <td>NaN</td>\n",
              "      <td>NaN</td>\n",
              "      <td>NaN</td>\n",
              "      <td>0</td>\n",
              "    </tr>\n",
              "    <tr>\n",
              "      <th>9</th>\n",
              "      <td>2018-05-17 22:56:15.000000</td>\n",
              "      <td>27897430.0</td>\n",
              "      <td>19824230.0</td>\n",
              "      <td>125.6859</td>\n",
              "      <td>4059666.0</td>\n",
              "      <td>97.55281</td>\n",
              "      <td>NaN</td>\n",
              "      <td>NaN</td>\n",
              "      <td>NaN</td>\n",
              "      <td>0</td>\n",
              "    </tr>\n",
              "  </tbody>\n",
              "</table>\n",
              "</div>\n",
              "      <button class=\"colab-df-convert\" onclick=\"convertToInteractive('df-f398f53c-d2e2-4c5d-811c-300feae5d2e5')\"\n",
              "              title=\"Convert this dataframe to an interactive table.\"\n",
              "              style=\"display:none;\">\n",
              "        \n",
              "  <svg xmlns=\"http://www.w3.org/2000/svg\" height=\"24px\"viewBox=\"0 0 24 24\"\n",
              "       width=\"24px\">\n",
              "    <path d=\"M0 0h24v24H0V0z\" fill=\"none\"/>\n",
              "    <path d=\"M18.56 5.44l.94 2.06.94-2.06 2.06-.94-2.06-.94-.94-2.06-.94 2.06-2.06.94zm-11 1L8.5 8.5l.94-2.06 2.06-.94-2.06-.94L8.5 2.5l-.94 2.06-2.06.94zm10 10l.94 2.06.94-2.06 2.06-.94-2.06-.94-.94-2.06-.94 2.06-2.06.94z\"/><path d=\"M17.41 7.96l-1.37-1.37c-.4-.4-.92-.59-1.43-.59-.52 0-1.04.2-1.43.59L10.3 9.45l-7.72 7.72c-.78.78-.78 2.05 0 2.83L4 21.41c.39.39.9.59 1.41.59.51 0 1.02-.2 1.41-.59l7.78-7.78 2.81-2.81c.8-.78.8-2.07 0-2.86zM5.41 20L4 18.59l7.72-7.72 1.47 1.35L5.41 20z\"/>\n",
              "  </svg>\n",
              "      </button>\n",
              "      \n",
              "  <style>\n",
              "    .colab-df-container {\n",
              "      display:flex;\n",
              "      flex-wrap:wrap;\n",
              "      gap: 12px;\n",
              "    }\n",
              "\n",
              "    .colab-df-convert {\n",
              "      background-color: #E8F0FE;\n",
              "      border: none;\n",
              "      border-radius: 50%;\n",
              "      cursor: pointer;\n",
              "      display: none;\n",
              "      fill: #1967D2;\n",
              "      height: 32px;\n",
              "      padding: 0 0 0 0;\n",
              "      width: 32px;\n",
              "    }\n",
              "\n",
              "    .colab-df-convert:hover {\n",
              "      background-color: #E2EBFA;\n",
              "      box-shadow: 0px 1px 2px rgba(60, 64, 67, 0.3), 0px 1px 3px 1px rgba(60, 64, 67, 0.15);\n",
              "      fill: #174EA6;\n",
              "    }\n",
              "\n",
              "    [theme=dark] .colab-df-convert {\n",
              "      background-color: #3B4455;\n",
              "      fill: #D2E3FC;\n",
              "    }\n",
              "\n",
              "    [theme=dark] .colab-df-convert:hover {\n",
              "      background-color: #434B5C;\n",
              "      box-shadow: 0px 1px 3px 1px rgba(0, 0, 0, 0.15);\n",
              "      filter: drop-shadow(0px 1px 2px rgba(0, 0, 0, 0.3));\n",
              "      fill: #FFFFFF;\n",
              "    }\n",
              "  </style>\n",
              "\n",
              "      <script>\n",
              "        const buttonEl =\n",
              "          document.querySelector('#df-f398f53c-d2e2-4c5d-811c-300feae5d2e5 button.colab-df-convert');\n",
              "        buttonEl.style.display =\n",
              "          google.colab.kernel.accessAllowed ? 'block' : 'none';\n",
              "\n",
              "        async function convertToInteractive(key) {\n",
              "          const element = document.querySelector('#df-f398f53c-d2e2-4c5d-811c-300feae5d2e5');\n",
              "          const dataTable =\n",
              "            await google.colab.kernel.invokeFunction('convertToInteractive',\n",
              "                                                     [key], {});\n",
              "          if (!dataTable) return;\n",
              "\n",
              "          const docLinkHtml = 'Like what you see? Visit the ' +\n",
              "            '<a target=\"_blank\" href=https://colab.research.google.com/notebooks/data_table.ipynb>data table notebook</a>'\n",
              "            + ' to learn more about interactive tables.';\n",
              "          element.innerHTML = '';\n",
              "          dataTable['output_type'] = 'display_data';\n",
              "          await google.colab.output.renderOutput(dataTable, element);\n",
              "          const docLink = document.createElement('div');\n",
              "          docLink.innerHTML = docLinkHtml;\n",
              "          element.appendChild(docLink);\n",
              "        }\n",
              "      </script>\n",
              "    </div>\n",
              "  </div>\n",
              "  "
            ]
          },
          "metadata": {},
          "execution_count": 2
        }
      ],
      "source": [
        "import pandas as pd\n",
        "import matplotlib.pyplot as plt\n",
        "import numpy as np\n",
        "import seaborn as sns\n",
        "\n",
        "df = pd.read_csv('/content/drive/MyDrive/IPFest/SIMULATED_00001.csv')\n",
        "df.head(10)"
      ]
    },
    {
      "cell_type": "code",
      "execution_count": null,
      "metadata": {
        "colab": {
          "base_uri": "https://localhost:8080/",
          "height": 292
        },
        "id": "hKKOuawX-qYf",
        "outputId": "dd228b7c-945a-4db2-a37c-5316e64f4418"
      },
      "outputs": [
        {
          "output_type": "execute_result",
          "data": {
            "text/plain": [
              "<matplotlib.axes._subplots.AxesSubplot at 0x7fa49d81c9d0>"
            ]
          },
          "metadata": {},
          "execution_count": 3
        },
        {
          "output_type": "display_data",
          "data": {
            "text/plain": [
              "<Figure size 432x288 with 1 Axes>"
            ],
            "image/png": "[encoded data removed]"
          },
          "metadata": {
            "needs_background": "light"
          }
        }
      ],
      "source": [
        "df['class'].value_counts().plot(kind='bar')"
      ]
    },
    {
      "cell_type": "code",
      "execution_count": null,
      "metadata": {
        "colab": {
          "base_uri": "https://localhost:8080/",
          "height": 330
        },
        "id": "5IvaUmgRE9rW",
        "outputId": "6b38a1c8-008c-4acd-8754-f9081d8dedb2"
      },
      "outputs": [
        {
          "output_type": "execute_result",
          "data": {
            "text/plain": [
              "<matplotlib.axes._subplots.AxesSubplot at 0x7fa49d779460>"
            ]
          },
          "metadata": {},
          "execution_count": 4
        },
        {
          "output_type": "display_data",
          "data": {
            "text/plain": [
              "<Figure size 432x288 with 1 Axes>"
            ],
            "image/png": "[encoded data removed]"
          },
          "metadata": {
            "needs_background": "light"
          }
        }
      ],
      "source": [
        "df.isna().sum()[df.isna().sum()>0].plot(kind='bar')"
      ]
    },
    {
      "cell_type": "code",
      "execution_count": null,
      "metadata": {
        "id": "5HuF5DL498ga"
      },
      "outputs": [],
      "source": [
        "df = df.iloc[1:]\n",
        "df.index = pd.to_datetime(df.timestamp, dayfirst=True)"
      ]
    },
    {
      "cell_type": "code",
      "execution_count": null,
      "metadata": {
        "colab": {
          "base_uri": "https://localhost:8080/"
        },
        "id": "eTMjjYgO-U8F",
        "outputId": "cfe5998e-a561-41ba-bd12-775961aca20c"
      },
      "outputs": [
        {
          "output_type": "stream",
          "name": "stdout",
          "text": [
            "<class 'pandas.core.frame.DataFrame'>\n",
            "DatetimeIndex: 26998 entries, 2018-05-17 22:56:07 to 2018-05-18 06:26:04\n",
            "Data columns (total 10 columns):\n",
            " #   Column      Non-Null Count  Dtype  \n",
            "---  ------      --------------  -----  \n",
            " 0   timestamp   26998 non-null  object \n",
            " 1   P-PDG       26998 non-null  float64\n",
            " 2   P-TPT       26998 non-null  float64\n",
            " 3   T-TPT       26998 non-null  float64\n",
            " 4   P-MON-CKP   26998 non-null  float64\n",
            " 5   T-JUS-CKP   26998 non-null  float64\n",
            " 6   P-JUS-CKGL  0 non-null      float64\n",
            " 7   T-JUS-CKGL  0 non-null      float64\n",
            " 8   QGL         0 non-null      float64\n",
            " 9   class       26998 non-null  int64  \n",
            "dtypes: float64(8), int64(1), object(1)\n",
            "memory usage: 2.3+ MB\n"
          ]
        }
      ],
      "source": [
        "df.info()"
      ]
    },
    {
      "cell_type": "code",
      "execution_count": null,
      "metadata": {
        "colab": {
          "base_uri": "https://localhost:8080/"
        },
        "id": "oxRwtORL_-ru",
        "outputId": "3e7e7860-e8fd-46de-df78-be197f07b731"
      },
      "outputs": [
        {
          "output_type": "execute_result",
          "data": {
            "text/plain": [
              "True"
            ]
          },
          "metadata": {},
          "execution_count": 7
        }
      ],
      "source": [
        "t = df['P-PDG'].any() or df['P-TPT'].any() or  df['T-TPT'].any()\n",
        "t"
      ]
    },
    {
      "cell_type": "code",
      "execution_count": null,
      "metadata": {
        "colab": {
          "base_uri": "https://localhost:8080/",
          "height": 386
        },
        "id": "c5RuWHoa-9Vb",
        "outputId": "52da8726-7b13-429f-ec67-1257ececfb9d"
      },
      "outputs": [
        {
          "output_type": "execute_result",
          "data": {
            "text/plain": [
              "                                      timestamp       P-PDG       P-TPT  \\\n",
              "timestamp                                                                 \n",
              "2018-05-17 22:56:07  2018-05-17 22:56:07.000000  27897450.0  19824230.0   \n",
              "2018-05-17 22:56:08  2018-05-17 22:56:08.000000  27897360.0  19824230.0   \n",
              "2018-05-17 22:56:09  2018-05-17 22:56:09.000000  27897430.0  19824230.0   \n",
              "2018-05-17 22:56:10  2018-05-17 22:56:10.000000  27897500.0  19824230.0   \n",
              "2018-05-17 22:56:11  2018-05-17 22:56:11.000000  27897310.0  19824230.0   \n",
              "\n",
              "                        T-TPT  P-MON-CKP  T-JUS-CKP  P-JUS-CKGL  T-JUS-CKGL  \\\n",
              "timestamp                                                                     \n",
              "2018-05-17 22:56:07  125.6859  4059666.0   97.55283         NaN         NaN   \n",
              "2018-05-17 22:56:08  125.6859  4059666.0   97.55283         NaN         NaN   \n",
              "2018-05-17 22:56:09  125.6859  4059666.0   97.55282         NaN         NaN   \n",
              "2018-05-17 22:56:10  125.6859  4059666.0   97.55282         NaN         NaN   \n",
              "2018-05-17 22:56:11  125.6859  4059666.0   97.55282         NaN         NaN   \n",
              "\n",
              "                     QGL  class  \n",
              "timestamp                        \n",
              "2018-05-17 22:56:07  NaN      0  \n",
              "2018-05-17 22:56:08  NaN      0  \n",
              "2018-05-17 22:56:09  NaN      0  \n",
              "2018-05-17 22:56:10  NaN      0  \n",
              "2018-05-17 22:56:11  NaN      0  "
            ],
            "text/html": [
              "\n",
              "  <div id=\"df-ca5acf23-6164-4df8-8dd5-5806ef962a1e\">\n",
              "    <div class=\"colab-df-container\">\n",
              "      <div>\n",
              "<style scoped>\n",
              "    .dataframe tbody tr th:only-of-type {\n",
              "        vertical-align: middle;\n",
              "    }\n",
              "\n",
              "    .dataframe tbody tr th {\n",
              "        vertical-align: top;\n",
              "    }\n",
              "\n",
              "    .dataframe thead th {\n",
              "        text-align: right;\n",
              "    }\n",
              "</style>\n",
              "<table border=\"1\" class=\"dataframe\">\n",
              "  <thead>\n",
              "    <tr style=\"text-align: right;\">\n",
              "      <th></th>\n",
              "      <th>timestamp</th>\n",
              "      <th>P-PDG</th>\n",
              "      <th>P-TPT</th>\n",
              "      <th>T-TPT</th>\n",
              "      <th>P-MON-CKP</th>\n",
              "      <th>T-JUS-CKP</th>\n",
              "      <th>P-JUS-CKGL</th>\n",
              "      <th>T-JUS-CKGL</th>\n",
              "      <th>QGL</th>\n",
              "      <th>class</th>\n",
              "    </tr>\n",
              "    <tr>\n",
              "      <th>timestamp</th>\n",
              "      <th></th>\n",
              "      <th></th>\n",
              "      <th></th>\n",
              "      <th></th>\n",
              "      <th></th>\n",
              "      <th></th>\n",
              "      <th></th>\n",
              "      <th></th>\n",
              "      <th></th>\n",
              "      <th></th>\n",
              "    </tr>\n",
              "  </thead>\n",
              "  <tbody>\n",
              "    <tr>\n",
              "      <th>2018-05-17 22:56:07</th>\n",
              "      <td>2018-05-17 22:56:07.000000</td>\n",
              "      <td>27897450.0</td>\n",
              "      <td>19824230.0</td>\n",
              "      <td>125.6859</td>\n",
              "      <td>4059666.0</td>\n",
              "      <td>97.55283</td>\n",
              "      <td>NaN</td>\n",
              "      <td>NaN</td>\n",
              "      <td>NaN</td>\n",
              "      <td>0</td>\n",
              "    </tr>\n",
              "    <tr>\n",
              "      <th>2018-05-17 22:56:08</th>\n",
              "      <td>2018-05-17 22:56:08.000000</td>\n",
              "      <td>27897360.0</td>\n",
              "      <td>19824230.0</td>\n",
              "      <td>125.6859</td>\n",
              "      <td>4059666.0</td>\n",
              "      <td>97.55283</td>\n",
              "      <td>NaN</td>\n",
              "      <td>NaN</td>\n",
              "      <td>NaN</td>\n",
              "      <td>0</td>\n",
              "    </tr>\n",
              "    <tr>\n",
              "      <th>2018-05-17 22:56:09</th>\n",
              "      <td>2018-05-17 22:56:09.000000</td>\n",
              "      <td>27897430.0</td>\n",
              "      <td>19824230.0</td>\n",
              "      <td>125.6859</td>\n",
              "      <td>4059666.0</td>\n",
              "      <td>97.55282</td>\n",
              "      <td>NaN</td>\n",
              "      <td>NaN</td>\n",
              "      <td>NaN</td>\n",
              "      <td>0</td>\n",
              "    </tr>\n",
              "    <tr>\n",
              "      <th>2018-05-17 22:56:10</th>\n",
              "      <td>2018-05-17 22:56:10.000000</td>\n",
              "      <td>27897500.0</td>\n",
              "      <td>19824230.0</td>\n",
              "      <td>125.6859</td>\n",
              "      <td>4059666.0</td>\n",
              "      <td>97.55282</td>\n",
              "      <td>NaN</td>\n",
              "      <td>NaN</td>\n",
              "      <td>NaN</td>\n",
              "      <td>0</td>\n",
              "    </tr>\n",
              "    <tr>\n",
              "      <th>2018-05-17 22:56:11</th>\n",
              "      <td>2018-05-17 22:56:11.000000</td>\n",
              "      <td>27897310.0</td>\n",
              "      <td>19824230.0</td>\n",
              "      <td>125.6859</td>\n",
              "      <td>4059666.0</td>\n",
              "      <td>97.55282</td>\n",
              "      <td>NaN</td>\n",
              "      <td>NaN</td>\n",
              "      <td>NaN</td>\n",
              "      <td>0</td>\n",
              "    </tr>\n",
              "  </tbody>\n",
              "</table>\n",
              "</div>\n",
              "      <button class=\"colab-df-convert\" onclick=\"convertToInteractive('df-ca5acf23-6164-4df8-8dd5-5806ef962a1e')\"\n",
              "              title=\"Convert this dataframe to an interactive table.\"\n",
              "              style=\"display:none;\">\n",
              "        \n",
              "  <svg xmlns=\"http://www.w3.org/2000/svg\" height=\"24px\"viewBox=\"0 0 24 24\"\n",
              "       width=\"24px\">\n",
              "    <path d=\"M0 0h24v24H0V0z\" fill=\"none\"/>\n",
              "    <path d=\"M18.56 5.44l.94 2.06.94-2.06 2.06-.94-2.06-.94-.94-2.06-.94 2.06-2.06.94zm-11 1L8.5 8.5l.94-2.06 2.06-.94-2.06-.94L8.5 2.5l-.94 2.06-2.06.94zm10 10l.94 2.06.94-2.06 2.06-.94-2.06-.94-.94-2.06-.94 2.06-2.06.94z\"/><path d=\"M17.41 7.96l-1.37-1.37c-.4-.4-.92-.59-1.43-.59-.52 0-1.04.2-1.43.59L10.3 9.45l-7.72 7.72c-.78.78-.78 2.05 0 2.83L4 21.41c.39.39.9.59 1.41.59.51 0 1.02-.2 1.41-.59l7.78-7.78 2.81-2.81c.8-.78.8-2.07 0-2.86zM5.41 20L4 18.59l7.72-7.72 1.47 1.35L5.41 20z\"/>\n",
              "  </svg>\n",
              "      </button>\n",
              "      \n",
              "  <style>\n",
              "    .colab-df-container {\n",
              "      display:flex;\n",
              "      flex-wrap:wrap;\n",
              "      gap: 12px;\n",
              "    }\n",
              "\n",
              "    .colab-df-convert {\n",
              "      background-color: #E8F0FE;\n",
              "      border: none;\n",
              "      border-radius: 50%;\n",
              "      cursor: pointer;\n",
              "      display: none;\n",
              "      fill: #1967D2;\n",
              "      height: 32px;\n",
              "      padding: 0 0 0 0;\n",
              "      width: 32px;\n",
              "    }\n",
              "\n",
              "    .colab-df-convert:hover {\n",
              "      background-color: #E2EBFA;\n",
              "      box-shadow: 0px 1px 2px rgba(60, 64, 67, 0.3), 0px 1px 3px 1px rgba(60, 64, 67, 0.15);\n",
              "      fill: #174EA6;\n",
              "    }\n",
              "\n",
              "    [theme=dark] .colab-df-convert {\n",
              "      background-color: #3B4455;\n",
              "      fill: #D2E3FC;\n",
              "    }\n",
              "\n",
              "    [theme=dark] .colab-df-convert:hover {\n",
              "      background-color: #434B5C;\n",
              "      box-shadow: 0px 1px 3px 1px rgba(0, 0, 0, 0.15);\n",
              "      filter: drop-shadow(0px 1px 2px rgba(0, 0, 0, 0.3));\n",
              "      fill: #FFFFFF;\n",
              "    }\n",
              "  </style>\n",
              "\n",
              "      <script>\n",
              "        const buttonEl =\n",
              "          document.querySelector('#df-ca5acf23-6164-4df8-8dd5-5806ef962a1e button.colab-df-convert');\n",
              "        buttonEl.style.display =\n",
              "          google.colab.kernel.accessAllowed ? 'block' : 'none';\n",
              "\n",
              "        async function convertToInteractive(key) {\n",
              "          const element = document.querySelector('#df-ca5acf23-6164-4df8-8dd5-5806ef962a1e');\n",
              "          const dataTable =\n",
              "            await google.colab.kernel.invokeFunction('convertToInteractive',\n",
              "                                                     [key], {});\n",
              "          if (!dataTable) return;\n",
              "\n",
              "          const docLinkHtml = 'Like what you see? Visit the ' +\n",
              "            '<a target=\"_blank\" href=https://colab.research.google.com/notebooks/data_table.ipynb>data table notebook</a>'\n",
              "            + ' to learn more about interactive tables.';\n",
              "          element.innerHTML = '';\n",
              "          dataTable['output_type'] = 'display_data';\n",
              "          await google.colab.output.renderOutput(dataTable, element);\n",
              "          const docLink = document.createElement('div');\n",
              "          docLink.innerHTML = docLinkHtml;\n",
              "          element.appendChild(docLink);\n",
              "        }\n",
              "      </script>\n",
              "    </div>\n",
              "  </div>\n",
              "  "
            ]
          },
          "metadata": {},
          "execution_count": 8
        }
      ],
      "source": [
        "df.head()"
      ]
    },
    {
      "cell_type": "code",
      "execution_count": null,
      "metadata": {
        "colab": {
          "base_uri": "https://localhost:8080/",
          "height": 238
        },
        "id": "g2bTxh9j-c2i",
        "outputId": "14819f21-511a-484f-df93-5779691e5c6d"
      },
      "outputs": [
        {
          "output_type": "execute_result",
          "data": {
            "text/plain": [
              "                          P-PDG       P-TPT     T-TPT  P-MON-CKP  T-JUS-CKP  \\\n",
              "timestamp                                                                     \n",
              "2018-05-17 22:56:07  27897450.0  19824230.0  125.6859  4059666.0   97.55283   \n",
              "2018-05-17 22:56:08  27897360.0  19824230.0  125.6859  4059666.0   97.55283   \n",
              "2018-05-17 22:56:09  27897430.0  19824230.0  125.6859  4059666.0   97.55282   \n",
              "2018-05-17 22:56:10  27897500.0  19824230.0  125.6859  4059666.0   97.55282   \n",
              "2018-05-17 22:56:11  27897310.0  19824230.0  125.6859  4059666.0   97.55282   \n",
              "\n",
              "                     class  \n",
              "timestamp                   \n",
              "2018-05-17 22:56:07      0  \n",
              "2018-05-17 22:56:08      0  \n",
              "2018-05-17 22:56:09      0  \n",
              "2018-05-17 22:56:10      0  \n",
              "2018-05-17 22:56:11      0  "
            ],
            "text/html": [
              "\n",
              "  <div id=\"df-704b44ac-729e-48f7-abe7-a35709f58720\">\n",
              "    <div class=\"colab-df-container\">\n",
              "      <div>\n",
              "<style scoped>\n",
              "    .dataframe tbody tr th:only-of-type {\n",
              "        vertical-align: middle;\n",
              "    }\n",
              "\n",
              "    .dataframe tbody tr th {\n",
              "        vertical-align: top;\n",
              "    }\n",
              "\n",
              "    .dataframe thead th {\n",
              "        text-align: right;\n",
              "    }\n",
              "</style>\n",
              "<table border=\"1\" class=\"dataframe\">\n",
              "  <thead>\n",
              "    <tr style=\"text-align: right;\">\n",
              "      <th></th>\n",
              "      <th>P-PDG</th>\n",
              "      <th>P-TPT</th>\n",
              "      <th>T-TPT</th>\n",
              "      <th>P-MON-CKP</th>\n",
              "      <th>T-JUS-CKP</th>\n",
              "      <th>class</th>\n",
              "    </tr>\n",
              "    <tr>\n",
              "      <th>timestamp</th>\n",
              "      <th></th>\n",
              "      <th></th>\n",
              "      <th></th>\n",
              "      <th></th>\n",
              "      <th></th>\n",
              "      <th></th>\n",
              "    </tr>\n",
              "  </thead>\n",
              "  <tbody>\n",
              "    <tr>\n",
              "      <th>2018-05-17 22:56:07</th>\n",
              "      <td>27897450.0</td>\n",
              "      <td>19824230.0</td>\n",
              "      <td>125.6859</td>\n",
              "      <td>4059666.0</td>\n",
              "      <td>97.55283</td>\n",
              "      <td>0</td>\n",
              "    </tr>\n",
              "    <tr>\n",
              "      <th>2018-05-17 22:56:08</th>\n",
              "      <td>27897360.0</td>\n",
              "      <td>19824230.0</td>\n",
              "      <td>125.6859</td>\n",
              "      <td>4059666.0</td>\n",
              "      <td>97.55283</td>\n",
              "      <td>0</td>\n",
              "    </tr>\n",
              "    <tr>\n",
              "      <th>2018-05-17 22:56:09</th>\n",
              "      <td>27897430.0</td>\n",
              "      <td>19824230.0</td>\n",
              "      <td>125.6859</td>\n",
              "      <td>4059666.0</td>\n",
              "      <td>97.55282</td>\n",
              "      <td>0</td>\n",
              "    </tr>\n",
              "    <tr>\n",
              "      <th>2018-05-17 22:56:10</th>\n",
              "      <td>27897500.0</td>\n",
              "      <td>19824230.0</td>\n",
              "      <td>125.6859</td>\n",
              "      <td>4059666.0</td>\n",
              "      <td>97.55282</td>\n",
              "      <td>0</td>\n",
              "    </tr>\n",
              "    <tr>\n",
              "      <th>2018-05-17 22:56:11</th>\n",
              "      <td>27897310.0</td>\n",
              "      <td>19824230.0</td>\n",
              "      <td>125.6859</td>\n",
              "      <td>4059666.0</td>\n",
              "      <td>97.55282</td>\n",
              "      <td>0</td>\n",
              "    </tr>\n",
              "  </tbody>\n",
              "</table>\n",
              "</div>\n",
              "      <button class=\"colab-df-convert\" onclick=\"convertToInteractive('df-704b44ac-729e-48f7-abe7-a35709f58720')\"\n",
              "              title=\"Convert this dataframe to an interactive table.\"\n",
              "              style=\"display:none;\">\n",
              "        \n",
              "  <svg xmlns=\"http://www.w3.org/2000/svg\" height=\"24px\"viewBox=\"0 0 24 24\"\n",
              "       width=\"24px\">\n",
              "    <path d=\"M0 0h24v24H0V0z\" fill=\"none\"/>\n",
              "    <path d=\"M18.56 5.44l.94 2.06.94-2.06 2.06-.94-2.06-.94-.94-2.06-.94 2.06-2.06.94zm-11 1L8.5 8.5l.94-2.06 2.06-.94-2.06-.94L8.5 2.5l-.94 2.06-2.06.94zm10 10l.94 2.06.94-2.06 2.06-.94-2.06-.94-.94-2.06-.94 2.06-2.06.94z\"/><path d=\"M17.41 7.96l-1.37-1.37c-.4-.4-.92-.59-1.43-.59-.52 0-1.04.2-1.43.59L10.3 9.45l-7.72 7.72c-.78.78-.78 2.05 0 2.83L4 21.41c.39.39.9.59 1.41.59.51 0 1.02-.2 1.41-.59l7.78-7.78 2.81-2.81c.8-.78.8-2.07 0-2.86zM5.41 20L4 18.59l7.72-7.72 1.47 1.35L5.41 20z\"/>\n",
              "  </svg>\n",
              "      </button>\n",
              "      \n",
              "  <style>\n",
              "    .colab-df-container {\n",
              "      display:flex;\n",
              "      flex-wrap:wrap;\n",
              "      gap: 12px;\n",
              "    }\n",
              "\n",
              "    .colab-df-convert {\n",
              "      background-color: #E8F0FE;\n",
              "      border: none;\n",
              "      border-radius: 50%;\n",
              "      cursor: pointer;\n",
              "      display: none;\n",
              "      fill: #1967D2;\n",
              "      height: 32px;\n",
              "      padding: 0 0 0 0;\n",
              "      width: 32px;\n",
              "    }\n",
              "\n",
              "    .colab-df-convert:hover {\n",
              "      background-color: #E2EBFA;\n",
              "      box-shadow: 0px 1px 2px rgba(60, 64, 67, 0.3), 0px 1px 3px 1px rgba(60, 64, 67, 0.15);\n",
              "      fill: #174EA6;\n",
              "    }\n",
              "\n",
              "    [theme=dark] .colab-df-convert {\n",
              "      background-color: #3B4455;\n",
              "      fill: #D2E3FC;\n",
              "    }\n",
              "\n",
              "    [theme=dark] .colab-df-convert:hover {\n",
              "      background-color: #434B5C;\n",
              "      box-shadow: 0px 1px 3px 1px rgba(0, 0, 0, 0.15);\n",
              "      filter: drop-shadow(0px 1px 2px rgba(0, 0, 0, 0.3));\n",
              "      fill: #FFFFFF;\n",
              "    }\n",
              "  </style>\n",
              "\n",
              "      <script>\n",
              "        const buttonEl =\n",
              "          document.querySelector('#df-704b44ac-729e-48f7-abe7-a35709f58720 button.colab-df-convert');\n",
              "        buttonEl.style.display =\n",
              "          google.colab.kernel.accessAllowed ? 'block' : 'none';\n",
              "\n",
              "        async function convertToInteractive(key) {\n",
              "          const element = document.querySelector('#df-704b44ac-729e-48f7-abe7-a35709f58720');\n",
              "          const dataTable =\n",
              "            await google.colab.kernel.invokeFunction('convertToInteractive',\n",
              "                                                     [key], {});\n",
              "          if (!dataTable) return;\n",
              "\n",
              "          const docLinkHtml = 'Like what you see? Visit the ' +\n",
              "            '<a target=\"_blank\" href=https://colab.research.google.com/notebooks/data_table.ipynb>data table notebook</a>'\n",
              "            + ' to learn more about interactive tables.';\n",
              "          element.innerHTML = '';\n",
              "          dataTable['output_type'] = 'display_data';\n",
              "          await google.colab.output.renderOutput(dataTable, element);\n",
              "          const docLink = document.createElement('div');\n",
              "          docLink.innerHTML = docLinkHtml;\n",
              "          element.appendChild(docLink);\n",
              "        }\n",
              "      </script>\n",
              "    </div>\n",
              "  </div>\n",
              "  "
            ]
          },
          "metadata": {},
          "execution_count": 9
        }
      ],
      "source": [
        "df.drop(columns=['timestamp','P-JUS-CKGL', 'T-JUS-CKGL','QGL'],inplace=True)\n",
        "df.head()"
      ]
    },
    {
      "cell_type": "code",
      "execution_count": null,
      "metadata": {
        "id": "UH5Sa_KqA-kU"
      },
      "outputs": [],
      "source": [
        "for i in df.columns:\n",
        "  if i != 'class':\n",
        "    df['n-'+i] = (df[i]-df[i].mean())/df[i].std()"
      ]
    },
    {
      "cell_type": "code",
      "execution_count": null,
      "metadata": {
        "colab": {
          "base_uri": "https://localhost:8080/",
          "height": 392
        },
        "id": "pAKABvxM-p_Q",
        "outputId": "4869ff43-d660-4595-bd9a-bccc8c1bef89"
      },
      "outputs": [
        {
          "output_type": "execute_result",
          "data": {
            "text/plain": [
              "<matplotlib.legend.Legend at 0x7fa49d29ad00>"
            ]
          },
          "metadata": {},
          "execution_count": 11
        },
        {
          "output_type": "display_data",
          "data": {
            "text/plain": [
              "<Figure size 1008x432 with 1 Axes>"
            ],
            "image/png": "[encoded data removed]"
          },
          "metadata": {
            "needs_background": "light"
          }
        }
      ],
      "source": [
        "plt.figure(figsize=(14, 6))\n",
        "for i in df.columns:\n",
        "  if (i[:2]=='n-' and i!='n-QGL'):\n",
        "    plt.plot(df.index,df[i],label=i)\n",
        "plt.legend()"
      ]
    },
    {
      "cell_type": "code",
      "execution_count": null,
      "metadata": {
        "id": "wdZJeULXGKI_"
      },
      "outputs": [],
      "source": [
        "df[df['class']!=0]['class'].fillna(1)\n",
        "df.loc[df['class']!=0,'class']=1"
      ]
    },
    {
      "cell_type": "code",
      "execution_count": null,
      "metadata": {
        "colab": {
          "base_uri": "https://localhost:8080/",
          "height": 392
        },
        "id": "Um9yEZCP_Y1h",
        "outputId": "efa813a3-e78d-485d-9fbe-ad72edadb443"
      },
      "outputs": [
        {
          "output_type": "execute_result",
          "data": {
            "text/plain": [
              "<matplotlib.legend.Legend at 0x7fa49d776af0>"
            ]
          },
          "metadata": {},
          "execution_count": 14
        },
        {
          "output_type": "display_data",
          "data": {
            "text/plain": [
              "<Figure size 1008x432 with 1 Axes>"
            ],
            "image/png": "[encoded data removed]"
          },
          "metadata": {
            "needs_background": "light"
          }
        }
      ],
      "source": [
        "plt.figure(figsize=(14, 6))\n",
        "for i in df.columns:\n",
        "  if (i[:2]=='n-' or i=='class' ):\n",
        "    plt.plot(df.index,df[i],label=i)\n",
        "plt.legend()"
      ]
    },
    {
      "cell_type": "code",
      "execution_count": null,
      "metadata": {
        "colab": {
          "base_uri": "https://localhost:8080/"
        },
        "id": "dn3tqEZ_HHR6",
        "outputId": "c211771c-a485-4e9e-98a3-f00de717f5d0"
      },
      "outputs": [
        {
          "output_type": "execute_result",
          "data": {
            "text/plain": [
              "Index(['P-PDG', 'P-TPT', 'T-TPT', 'P-MON-CKP', 'T-JUS-CKP', 'class', 'n-P-PDG',\n",
              "       'n-P-TPT', 'n-T-TPT', 'n-P-MON-CKP', 'n-T-JUS-CKP'],\n",
              "      dtype='object')"
            ]
          },
          "metadata": {},
          "execution_count": 17
        }
      ],
      "source": [
        "df.columns"
      ]
    },
    {
      "cell_type": "code",
      "execution_count": null,
      "metadata": {
        "colab": {
          "base_uri": "https://localhost:8080/",
          "height": 344
        },
        "id": "Id3Tuq8nJGJ8",
        "outputId": "f8a362a5-e1b1-459e-cc2f-61a516222f9b"
      },
      "outputs": [
        {
          "output_type": "execute_result",
          "data": {
            "text/plain": [
              "<matplotlib.axes._subplots.AxesSubplot at 0x7fa499968e80>"
            ]
          },
          "metadata": {},
          "execution_count": 18
        },
        {
          "output_type": "display_data",
          "data": {
            "text/plain": [
              "<Figure size 432x288 with 2 Axes>"
            ],
            "image/png": "[encoded data removed]"
          },
          "metadata": {
            "needs_background": "light"
          }
        }
      ],
      "source": [
        "sns.heatmap(df[['class', 'n-P-PDG',\n",
        "       'n-P-TPT', 'n-T-TPT', 'n-P-MON-CKP', 'n-T-JUS-CKP']].corr(), annot=True)"
      ]
    },
    {
      "cell_type": "code",
      "execution_count": null,
      "metadata": {
        "id": "loCjNQVIUAMF"
      },
      "outputs": [],
      "source": [
        "# Import Keras\n",
        "from keras.models import Sequential\n",
        "from keras.layers import Dense, LSTM, BatchNormalization, Bidirectional, Dropout\n",
        "from keras.optimizers import Adam\n",
        "from keras.callbacks import ReduceLROnPlateau, EarlyStopping\n",
        "from keras.regularizers import l2\n",
        "from time import time\n",
        "from keras.wrappers.scikit_learn import KerasClassifier\n",
        "from keras.utils import to_categorical"
      ]
    },
    {
      "cell_type": "code",
      "execution_count": null,
      "metadata": {
        "id": "5Ia-IQ77YYOo"
      },
      "outputs": [],
      "source": [
        "from sklearn.model_selection._split import _BaseKFold\n",
        "from sklearn.utils.validation import indexable, _num_samples\n",
        "from typing import List, Generator\n",
        "\n",
        "\n",
        "class MonteCarloCV(_BaseKFold):\n",
        "\n",
        "    def __init__(self,\n",
        "                 n_splits: int,\n",
        "                 train_size: float,\n",
        "                 test_size: float,\n",
        "                 gap: int = 0):\n",
        "        \"\"\"\n",
        "        Monte Carlo Cross-Validation\n",
        "\n",
        "        Holdout applied in multiple testing periods\n",
        "        Testing origin (time-step where testing begins) is randomly chosen according to a monte carlo simulation\n",
        "\n",
        "        :param n_splits: (int) Number of monte carlo repetitions in the procedure\n",
        "        :param train_size: (float) Train size, in terms of ratio of the total length of the series\n",
        "        :param test_size: (float) Test size, in terms of ratio of the total length of the series\n",
        "        :param gap: (int) Number of samples to exclude from the end of each train set before the test set.\n",
        "        \"\"\"\n",
        "\n",
        "        self.n_splits = n_splits\n",
        "        self.n_samples = -1\n",
        "        self.gap = gap\n",
        "        self.train_size = train_size\n",
        "        self.test_size = test_size\n",
        "        self.train_n_samples = 0\n",
        "        self.test_n_samples = 0\n",
        "\n",
        "        self.mc_origins = []\n",
        "\n",
        "    def split(self, X, y=None, groups=None) -> Generator:\n",
        "        \"\"\"Generate indices to split data into training and test set.\n",
        "        Parameters\n",
        "        ----------\n",
        "        X : array-like of shape (n_samples, n_features)\n",
        "            Training data, where `n_samples` is the number of samples\n",
        "            and `n_features` is the number of features.\n",
        "        y : array-like of shape (n_samples,)\n",
        "            Always ignored, exists for compatibility.\n",
        "        groups : array-like of shape (n_samples,)\n",
        "            Always ignored, exists for compatibility.\n",
        "        Yields\n",
        "        ------\n",
        "        train : ndarray\n",
        "            The training set indices for that split.\n",
        "        test : ndarray\n",
        "            The testing set indices for that split.\n",
        "        \"\"\"\n",
        "\n",
        "        X, y, groups = indexable(X, y, groups)\n",
        "        self.n_samples = _num_samples(X)\n",
        "\n",
        "        self.train_n_samples = int(self.n_samples * self.train_size) - 1\n",
        "        self.test_n_samples = int(self.n_samples * self.test_size) - 1\n",
        "\n",
        "        # Make sure we have enough samples for the given split parameters\n",
        "        if self.n_splits > self.n_samples:\n",
        "            raise ValueError(\n",
        "                f'Cannot have number of folds={self.n_splits} greater'\n",
        "                f' than the number of samples={self.n_samples}.'\n",
        "            )\n",
        "        if self.train_n_samples - self.gap <= 0:\n",
        "            raise ValueError(\n",
        "                f'The gap={self.gap} is too big for number of training samples'\n",
        "                f'={self.train_n_samples} with testing samples={self.test_n_samples} and gap={self.gap}.'\n",
        "            )\n",
        "\n",
        "        indices = np.arange(self.n_samples)\n",
        "\n",
        "        selection_range = np.arange(self.train_n_samples + 1, self.n_samples - self.test_n_samples - 1)\n",
        "\n",
        "        self.mc_origins = \\\n",
        "            np.random.choice(a=selection_range,\n",
        "                             size=self.n_splits,\n",
        "                             replace=True)\n",
        "\n",
        "        for origin in self.mc_origins:\n",
        "            if self.gap > 0:\n",
        "                train_end = origin - self.gap + 1\n",
        "            else:\n",
        "                train_end = origin - self.gap\n",
        "            train_start = origin - self.train_n_samples - 1\n",
        "\n",
        "            test_end = origin + self.test_n_samples\n",
        "\n",
        "            yield (\n",
        "                indices[train_start:train_end],\n",
        "                indices[origin:test_end],\n",
        "            )\n",
        "\n",
        "    def get_origins(self) -> List[int]:\n",
        "        return self.mc_origins"
      ]
    },
    {
      "cell_type": "code",
      "execution_count": null,
      "metadata": {
        "id": "978jZ-ZsXs_8"
      },
      "outputs": [],
      "source": [
        "mccv = MonteCarloCV(n_splits=5, \n",
        "                    train_size=0.6, \n",
        "                    test_size=0.2, \n",
        "                    gap=0)"
      ]
    },
    {
      "cell_type": "code",
      "execution_count": null,
      "metadata": {
        "id": "vh8JGYvSYtH9"
      },
      "outputs": [],
      "source": [
        "X = df[['n-P-PDG','n-P-TPT', 'n-T-TPT', 'n-P-MON-CKP', 'n-T-JUS-CKP']].values\n",
        "y = df['class'].values"
      ]
    },
    {
      "cell_type": "code",
      "execution_count": null,
      "metadata": {
        "colab": {
          "base_uri": "https://localhost:8080/"
        },
        "id": "HCVmXl4jcO6o",
        "outputId": "cd8ecf99-17a7-46e7-f31d-02e15bdfaeec"
      },
      "outputs": [
        {
          "output_type": "execute_result",
          "data": {
            "text/plain": [
              "array([[-2.67840925, -2.6621424 ,  2.49416179,  2.44931581,  1.90802707],\n",
              "       [-2.67845688, -2.6621424 ,  2.49416179,  2.44931581,  1.90802707],\n",
              "       [-2.67841984, -2.6621424 ,  2.49416179,  2.44931581,  1.90802666],\n",
              "       ...,\n",
              "       [ 0.39267917,  0.40740001, -0.4261388 , -0.43893179, -0.90116594],\n",
              "       [ 0.39271093,  0.40742233, -0.42614234, -0.4384754 , -0.90218468],\n",
              "       [ 0.39271622,  0.40738512, -0.42613746, -0.43791759, -0.90309807]])"
            ]
          },
          "metadata": {},
          "execution_count": 22
        }
      ],
      "source": [
        "X"
      ]
    },
    {
      "cell_type": "code",
      "execution_count": null,
      "metadata": {
        "colab": {
          "base_uri": "https://localhost:8080/"
        },
        "id": "GPyXvRxFYiku",
        "outputId": "3169ab2c-4b3f-49e6-fb58-2f8a3a758946"
      },
      "outputs": [
        {
          "output_type": "stream",
          "name": "stdout",
          "text": [
            "TRAIN: [ 1333  1334  1335 ... 17528 17529 17530] TEST: [17531 17532 17533 ... 22926 22927 22928]\n",
            "TRAIN: [  840   841   842 ... 17035 17036 17037] TEST: [17038 17039 17040 ... 22433 22434 22435]\n",
            "TRAIN: [ 3571  3572  3573 ... 19766 19767 19768] TEST: [19769 19770 19771 ... 25164 25165 25166]\n",
            "TRAIN: [  428   429   430 ... 16623 16624 16625] TEST: [16626 16627 16628 ... 22021 22022 22023]\n",
            "TRAIN: [  238   239   240 ... 16433 16434 16435] TEST: [16436 16437 16438 ... 21831 21832 21833]\n"
          ]
        },
        {
          "output_type": "execute_result",
          "data": {
            "text/plain": [
              "(26998, 5)"
            ]
          },
          "metadata": {},
          "execution_count": 24
        }
      ],
      "source": [
        "for train_index, test_index in mccv.split(X):\n",
        "    print(\"TRAIN:\", train_index, \"TEST:\", test_index)\n",
        "    X_train, X_test = X[train_index], X[test_index]\n",
        "    y_train, y_test = y[train_index], y[test_index]\n",
        "X.shape"
      ]
    },
    {
      "cell_type": "code",
      "execution_count": null,
      "metadata": {
        "id": "2vhk0BtgWQSU"
      },
      "outputs": [],
      "source": [
        "def make_model():\n",
        "  model = Sequential()\n",
        "  model.add(LSTM(128, dropout=0.2, input_shape=(5,1)))\n",
        "  model.add(Dense(128, activation='relu'))\n",
        "  model.add(Dropout(0.5))\n",
        "  model.add(Dense(64, activation='relu'))\n",
        "  model.add(Dense(2, activation='softmax'))\n",
        "  model.compile(loss='categorical_crossentropy', optimizer='adam', metrics=['accuracy'])\n",
        "  return model"
      ]
    },
    {
      "cell_type": "code",
      "execution_count": null,
      "metadata": {
        "colab": {
          "base_uri": "https://localhost:8080/"
        },
        "id": "w8AONW7De5kh",
        "outputId": "0fc1bee8-dd6e-48f9-9783-455060b8b4cf"
      },
      "outputs": [
        {
          "output_type": "stream",
          "name": "stderr",
          "text": [
            "<ipython-input-26-96a05120ddb5>:1: DeprecationWarning: KerasClassifier is deprecated, use Sci-Keras (https://github.com/adriangb/scikeras) instead. See https://www.adriangb.com/scikeras/stable/migration.html for help migrating.\n",
            "  model=KerasClassifier(build_fn=make_model)\n"
          ]
        }
      ],
      "source": [
        "model=KerasClassifier(build_fn=make_model)"
      ]
    },
    {
      "cell_type": "code",
      "execution_count": null,
      "metadata": {
        "colab": {
          "base_uri": "https://localhost:8080/"
        },
        "id": "8MSDyar-k5JG",
        "outputId": "e6bfd1cb-15a8-4ec4-f8ae-9b9648a8048c"
      },
      "outputs": [
        {
          "output_type": "execute_result",
          "data": {
            "text/plain": [
              "(26998, 5)"
            ]
          },
          "metadata": {},
          "execution_count": 27
        }
      ],
      "source": [
        "X.shape"
      ]
    },
    {
      "cell_type": "code",
      "execution_count": null,
      "metadata": {
        "colab": {
          "base_uri": "https://localhost:8080/"
        },
        "id": "IwkwYCTJfEFQ",
        "outputId": "32821ffe-7d91-46d5-e934-bb0eb6238112"
      },
      "outputs": [
        {
          "name": "stdout",
          "output_type": "stream",
          "text": [
            "960/960 [==============================] - 10s 8ms/step - loss: 0.0629 - accuracy: 0.9840\n",
            "320/320 [==============================] - 2s 4ms/step - loss: 7.2326e-04 - accuracy: 1.0000\n",
            "960/960 [==============================] - 10s 8ms/step - loss: 0.0891 - accuracy: 0.9748\n",
            "320/320 [==============================] - 2s 3ms/step - loss: 0.0076 - accuracy: 1.0000\n",
            "960/960 [==============================] - 10s 8ms/step - loss: 0.0351 - accuracy: 0.9938\n",
            "320/320 [==============================] - 2s 3ms/step - loss: 1.9260e-04 - accuracy: 1.0000\n",
            "960/960 [==============================] - 10s 8ms/step - loss: 0.0725 - accuracy: 0.9796\n",
            "320/320 [==============================] - 2s 3ms/step - loss: 0.0023 - accuracy: 1.0000\n",
            "960/960 [==============================] - 10s 8ms/step - loss: 0.0670 - accuracy: 0.9814\n",
            "320/320 [==============================] - 2s 3ms/step - loss: 0.0037 - accuracy: 1.0000\n",
            "Epoch 1/3\n",
            "960/960 [==============================] - 10s 8ms/step - loss: 0.0601 - accuracy: 0.9843\n",
            "Epoch 2/3\n",
            "960/960 [==============================] - 8s 8ms/step - loss: 0.0350 - accuracy: 0.9910\n",
            "Epoch 3/3\n",
            "960/960 [==============================] - 8s 8ms/step - loss: 0.0275 - accuracy: 0.9927\n",
            "320/320 [==============================] - 2s 3ms/step - loss: 0.0023 - accuracy: 1.0000\n",
            "Epoch 1/3\n",
            "960/960 [==============================] - 10s 8ms/step - loss: 0.0920 - accuracy: 0.9731\n",
            "Epoch 2/3\n",
            "960/960 [==============================] - 7s 8ms/step - loss: 0.0554 - accuracy: 0.9846\n",
            "Epoch 3/3\n",
            "960/960 [==============================] - 7s 8ms/step - loss: 0.0520 - accuracy: 0.9855\n",
            "320/320 [==============================] - 2s 4ms/step - loss: 0.0086 - accuracy: 1.0000\n",
            "Epoch 1/3\n",
            "960/960 [==============================] - 10s 8ms/step - loss: 0.0343 - accuracy: 0.9943\n",
            "Epoch 2/3\n",
            "960/960 [==============================] - 8s 8ms/step - loss: 0.0160 - accuracy: 0.9963\n",
            "Epoch 3/3\n",
            "960/960 [==============================] - 8s 8ms/step - loss: 0.0133 - accuracy: 0.9967\n",
            "320/320 [==============================] - 2s 3ms/step - loss: 0.0022 - accuracy: 1.0000\n",
            "Epoch 1/3\n",
            "960/960 [==============================] - 10s 8ms/step - loss: 0.0683 - accuracy: 0.9815\n",
            "Epoch 2/3\n",
            "960/960 [==============================] - 7s 8ms/step - loss: 0.0383 - accuracy: 0.9891\n",
            "Epoch 3/3\n",
            "960/960 [==============================] - 8s 8ms/step - loss: 0.0396 - accuracy: 0.9896\n",
            "320/320 [==============================] - 2s 4ms/step - loss: 0.0049 - accuracy: 1.0000\n",
            "Epoch 1/3\n",
            "960/960 [==============================] - 10s 8ms/step - loss: 0.0669 - accuracy: 0.9816\n",
            "Epoch 2/3\n",
            "960/960 [==============================] - 8s 8ms/step - loss: 0.0396 - accuracy: 0.9888\n",
            "Epoch 3/3\n",
            "960/960 [==============================] - 8s 8ms/step - loss: 0.0375 - accuracy: 0.9896\n",
            "320/320 [==============================] - 2s 4ms/step - loss: 0.0130 - accuracy: 1.0000\n",
            "1600/1600 [==============================] - 16s 8ms/step - loss: 0.0573 - accuracy: 0.9841\n"
          ]
        },
        {
          "data": {
            "text/plain": [
              "GridSearchCV(cv=MonteCarloCV(gap=0, n_splits=5, test_size=0.2, train_size=0.6),\n",
              "             estimator=<keras.wrappers.scikit_learn.KerasClassifier object at 0x7f382df62490>,\n",
              "             param_grid={'batch_size': [32], 'epochs': [1, 3]})"
            ]
          },
          "execution_count": 263,
          "metadata": {},
          "output_type": "execute_result"
        }
      ],
      "source": [
        "from sklearn.model_selection import GridSearchCV\n",
        "param_search = {'epochs': [1,3],\n",
        "                'batch_size': [32]}\n",
        "\n",
        "gsearch = GridSearchCV(estimator=model, cv=mccv, param_grid=param_search)\n",
        "gsearch.fit(X, y)"
      ]
    },
    {
      "cell_type": "code",
      "execution_count": null,
      "metadata": {
        "colab": {
          "base_uri": "https://localhost:8080/"
        },
        "id": "5NMFxjN-jSM3",
        "outputId": "20e9e558-624f-437a-cf5f-ffced5134622"
      },
      "outputs": [
        {
          "output_type": "stream",
          "name": "stdout",
          "text": [
            "Epoch 1/3\n",
            "40/40 [==============================] - 6s 75ms/step - loss: 0.6069 - accuracy: 0.6498 - val_loss: 0.1567 - val_accuracy: 0.9386\n",
            "Epoch 2/3\n",
            "40/40 [==============================] - 2s 60ms/step - loss: 0.5221 - accuracy: 0.6716 - val_loss: 0.0948 - val_accuracy: 0.9701\n",
            "Epoch 3/3\n",
            "40/40 [==============================] - 2s 59ms/step - loss: 0.5001 - accuracy: 0.6796 - val_loss: 0.0918 - val_accuracy: 0.9801\n"
          ]
        }
      ],
      "source": [
        "model = make_model()\n",
        "history = model.fit(X[0:2500*2], to_categorical(y[0:2500*2],2), epochs=3, batch_size=128, validation_data=(X, to_categorical(y,2)),\n",
        "                    verbose=1)\n",
        "  "
      ]
    },
    {
      "cell_type": "code",
      "execution_count": null,
      "metadata": {
        "id": "Du3FWadyhftV",
        "colab": {
          "base_uri": "https://localhost:8080/"
        },
        "outputId": "1676ebcc-1130-4533-eb3c-6247e2a841de"
      },
      "outputs": [
        {
          "output_type": "stream",
          "name": "stdout",
          "text": [
            "844/844 [==============================] - 6s 6ms/step\n",
            "              precision    recall  f1-score   support\n",
            "\n",
            "           0       0.77      1.00      0.87      1799\n",
            "           1       1.00      0.98      0.99     25199\n",
            "\n",
            "    accuracy                           0.98     26998\n",
            "   macro avg       0.88      0.99      0.93     26998\n",
            "weighted avg       0.98      0.98      0.98     26998\n",
            "\n"
          ]
        }
      ],
      "source": [
        "from sklearn.metrics import classification_report\n",
        "pred = model.predict(X)\n",
        "print(classification_report(y, pred.argmax(axis=1)))"
      ]
    },
    {
      "cell_type": "code",
      "source": [
        "soal = pd.read_csv('/content/drive/MyDrive/IPFest/WELL-00020_20120410192326.csv')\n",
        "soal['class']=soal['class'].fillna(method='ffill')\n",
        "soal.loc[soal['class']!=0,'class']=1"
      ],
      "metadata": {
        "id": "uctmJdQPbVXF"
      },
      "execution_count": null,
      "outputs": []
    },
    {
      "cell_type": "code",
      "source": [
        "soal = soal.iloc[1:]\n",
        "soal.index = pd.to_datetime(soal.timestamp, dayfirst=True)"
      ],
      "metadata": {
        "id": "UC6Qnn24b_K_"
      },
      "execution_count": null,
      "outputs": []
    },
    {
      "cell_type": "code",
      "source": [
        "soal.drop(columns=['timestamp','P-JUS-CKGL', 'T-JUS-CKGL'],inplace=True)\n",
        "for i in soal.columns:\n",
        "  if i != 'class':\n",
        "    soal['n-'+i] = (soal[i]-soal[i].mean())/soal[i].std()"
      ],
      "metadata": {
        "id": "Zb83ejS6b54R"
      },
      "execution_count": null,
      "outputs": []
    },
    {
      "cell_type": "code",
      "source": [
        "predict = model.predict(soal[['n-P-PDG','n-P-TPT', 'n-T-TPT', 'n-P-MON-CKP', 'n-T-JUS-CKP']].values)"
      ],
      "metadata": {
        "colab": {
          "base_uri": "https://localhost:8080/"
        },
        "id": "AjwzMGvhbq4W",
        "outputId": "52da6c1d-5502-4c1e-f9b8-62f65a770a66"
      },
      "execution_count": null,
      "outputs": [
        {
          "output_type": "stream",
          "name": "stdout",
          "text": [
            "491/491 [==============================] - 3s 6ms/step\n"
          ]
        }
      ]
    },
    {
      "cell_type": "code",
      "source": [
        "print(classification_report(soal['class'], predict.argmax(axis=1)))"
      ],
      "metadata": {
        "colab": {
          "base_uri": "https://localhost:8080/"
        },
        "id": "f5TRZgn4bwzG",
        "outputId": "f1fd1990-da65-4478-bef5-8bec9173d9d5"
      },
      "execution_count": null,
      "outputs": [
        {
          "output_type": "stream",
          "name": "stdout",
          "text": [
            "              precision    recall  f1-score   support\n",
            "\n",
            "         0.0       0.01      1.00      0.03       200\n",
            "         1.0       0.00      0.00      0.00     15487\n",
            "\n",
            "    accuracy                           0.01     15687\n",
            "   macro avg       0.01      0.50      0.01     15687\n",
            "weighted avg       0.00      0.01      0.00     15687\n",
            "\n"
          ]
        },
        {
          "output_type": "stream",
          "name": "stderr",
          "text": [
            "/usr/local/lib/python3.8/dist-packages/sklearn/metrics/_classification.py:1318: UndefinedMetricWarning: Precision and F-score are ill-defined and being set to 0.0 in labels with no predicted samples. Use `zero_division` parameter to control this behavior.\n",
            "  _warn_prf(average, modifier, msg_start, len(result))\n",
            "/usr/local/lib/python3.8/dist-packages/sklearn/metrics/_classification.py:1318: UndefinedMetricWarning: Precision and F-score are ill-defined and being set to 0.0 in labels with no predicted samples. Use `zero_division` parameter to control this behavior.\n",
            "  _warn_prf(average, modifier, msg_start, len(result))\n",
            "/usr/local/lib/python3.8/dist-packages/sklearn/metrics/_classification.py:1318: UndefinedMetricWarning: Precision and F-score are ill-defined and being set to 0.0 in labels with no predicted samples. Use `zero_division` parameter to control this behavior.\n",
            "  _warn_prf(average, modifier, msg_start, len(result))\n"
          ]
        }
      ]
    },
    {
      "cell_type": "code",
      "source": [],
      "metadata": {
        "id": "J2ZGmKCWcNpW"
      },
      "execution_count": null,
      "outputs": []
    }
  ],
  "metadata": {
    "colab": {
      "provenance": [],
      "include_colab_link": true
    },
    "kernelspec": {
      "display_name": "Python 3",
      "name": "python3"
    },
    "language_info": {
      "name": "python"
    }
  },
  "nbformat": 4,
  "nbformat_minor": 0
}